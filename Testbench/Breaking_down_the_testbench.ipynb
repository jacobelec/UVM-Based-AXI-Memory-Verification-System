{
 "cells": [
  {
   "cell_type": "markdown",
   "id": "328b21c1",
   "metadata": {},
   "source": [
    "### Includes & Imports"
   ]
  },
  {
   "cell_type": "markdown",
   "id": "a802af7f",
   "metadata": {},
   "source": [
    "- Brings in the UVM macros and package so you can use uvm_component_utils, sequence/item bases, reporting macros, etc."
   ]
  },
  {
   "cell_type": "code",
   "execution_count": null,
   "id": "b3adc25d",
   "metadata": {
    "vscode": {
     "languageId": "verilog"
    }
   },
   "outputs": [],
   "source": [
    "`include \"uvm_macros.svh\"\n",
    " import uvm_pkg::*;"
   ]
  },
  {
   "cell_type": "markdown",
   "id": "b56d4d35",
   "metadata": {},
   "source": [
    "### Transaction Definition"
   ]
  },
  {
   "cell_type": "markdown",
   "id": "4e796521",
   "metadata": {},
   "source": [
    "- oper_mode: tells the driver which burst mode or reset to perform\n",
    "- rand: allow automatic variation in tests\n",
    "- constraints: tie IDs together, force valid burst types, ensure write and read length match, etc..."
   ]
  },
  {
   "cell_type": "code",
   "execution_count": null,
   "id": "2cfedfcf",
   "metadata": {
    "vscode": {
     "languageId": "verilog"
    }
   },
   "outputs": [],
   "source": [
    "typedef enum bit [2:0] {wrrdfixed = 0, wrrdincr = 1, wrrdwrap = 2, wrrderrfix = 3,   rstdut = 4 } oper_mode;\n",
    " \n",
    "class transaction extends uvm_sequence_item;\n",
    "  `uvm_object_utils(transaction)\n",
    "  \n",
    "   \n",
    " \n",
    "  function new(string name = \"transaction\");\n",
    "    super.new(name);\n",
    "  endfunction\n",
    "  \n",
    " \n",
    "  int len = 0;\n",
    "  rand bit [3:0] id;\n",
    "  oper_mode op;\n",
    "  rand bit awvalid;\n",
    "  bit awready;\n",
    "  bit [3:0] awid;\n",
    "  rand bit [3:0] awlen;\n",
    "  rand bit [2:0] awsize; //4byte =010\n",
    "  rand bit [31:0] awaddr;\n",
    "  rand bit [1:0] awburst;\n",
    "  \n",
    "  bit wvalid;\n",
    "  bit wready;\n",
    "  bit [3:0] wid;\n",
    "  rand bit [31:0] wdata;\n",
    "  rand bit [3:0] wstrb;\n",
    "  bit wlast;\n",
    "  \n",
    "  bit bready;\n",
    "  bit bvalid;\n",
    "  bit [3:0] bid;\n",
    "  bit [1:0] bresp;\n",
    "  \n",
    "  \n",
    "  rand bit arvalid;  /// master is sending new address  \n",
    "  bit arready;  /// slave is ready to accept request\n",
    "  bit [3:0] arid; ////// unique ID for each transaction\n",
    "  rand bit [3:0] arlen; ////// burst length AXI3 : 1 to 16, AXI4 : 1 to 256\n",
    "  bit [2:0] arsize; ////unique transaction size : 1,2,4,8,16 ...128 bytes\n",
    "  rand bit [31:0] araddr; ////write adress of transaction\n",
    "  rand bit [1:0] arburst; ////burst type : fixed , INCR , WRAP\n",
    "  \n",
    "  /////////// read data channel (r)\n",
    "  \n",
    "  bit rvalid; //// master is sending new data\n",
    "  bit rready; //// slave is ready to accept new data \n",
    "  bit [3:0] rid; /// unique id for transaction\n",
    "  bit [31:0] rdata; //// data \n",
    "  bit [3:0] rstrb; //// lane having valid data\n",
    "  bit rlast; //// last transfer in write burst\n",
    "  bit [1:0] rresp; ///status of read transfer\n",
    "  \n",
    "  //constraint size { awsize == 3'b010; arsize == 3'b010;}\n",
    "  constraint txid { awid == id; wid == id; bid == id; arid == id; rid == id;  }\n",
    "  constraint burst {awburst inside {0,1,2}; arburst inside {0,1,2};}\n",
    "  constraint valid {awvalid != arvalid;}\n",
    "  constraint length {awlen == arlen;}\n",
    " \n",
    "endclass : transaction"
   ]
  },
  {
   "cell_type": "markdown",
   "id": "dc0ec275",
   "metadata": {},
   "source": [
    "### Sequences"
   ]
  },
  {
   "cell_type": "markdown",
   "id": "965bcf78",
   "metadata": {},
   "source": [
    "#### Sequence for reset"
   ]
  },
  {
   "cell_type": "markdown",
   "id": "ee09d45f",
   "metadata": {},
   "source": [
    "- Its purpose is to supply 5 reset transactions into your testbench, ensuring that the DUT experiences reset operations (probably at different randomized timings or with varied conditions)."
   ]
  },
  {
   "cell_type": "code",
   "execution_count": null,
   "id": "f16bfdff",
   "metadata": {
    "vscode": {
     "languageId": "verilog"
    }
   },
   "outputs": [],
   "source": [
    "class rst_dut extends uvm_sequence#(transaction); // producing objects of type transaction\n",
    "  `uvm_object_utils(rst_dut) // registers rst_dut with the UVM factory\n",
    "  \n",
    "  transaction tr;\n",
    " \n",
    "  function new(string name = \"rst_dut\");\n",
    "    super.new(name);\n",
    "  endfunction\n",
    " \n",
    "  \n",
    "  virtual task body();\n",
    "    repeat(5)\n",
    "      begin\n",
    "        tr = transaction::type_id::create(\"tr\");\n",
    "         $display(\"------------------------------\");\n",
    "        `uvm_info(\"SEQ\", \"Sending RST Transaction to DRV\", UVM_NONE);\n",
    "        start_item(tr);\n",
    "        assert(tr.randomize);\n",
    "        tr.op      = rstdut;\n",
    "        finish_item(tr);\n",
    "      end\n",
    "  endtask\n",
    "  \n",
    " \n",
    "endclass"
   ]
  },
  {
   "cell_type": "markdown",
   "id": "40848bcb",
   "metadata": {},
   "source": [
    "#### Sequence for FIXED mode burst type"
   ]
  },
  {
   "cell_type": "markdown",
   "id": "21e4d1a3",
   "metadata": {},
   "source": [
    "- Its job is to generate one transaction that represents a write-read in \"fixed\" burst mode and send it to the driver."
   ]
  },
  {
   "cell_type": "code",
   "execution_count": null,
   "id": "f8e6ce41",
   "metadata": {
    "vscode": {
     "languageId": "verilog"
    }
   },
   "outputs": [],
   "source": [
    "class valid_wrrd_fixed extends uvm_sequence#(transaction); // generate one transaction that represents a write-read in \"fixed\" burst mode and send it to the driver.\n",
    "  `uvm_object_utils(valid_wrrd_fixed) \n",
    "  \n",
    "  transaction tr;\n",
    " \n",
    "  function new(string name = \"valid_wrrd_fixed\");\n",
    "    super.new(name);\n",
    "  endfunction\n",
    " \n",
    "  \n",
    "  virtual task body();\n",
    " \n",
    "        tr = transaction::type_id::create(\"tr\");\n",
    "        $display(\"------------------------------\");\n",
    "        `uvm_info(\"SEQ\", \"Sending Fixed mode Transaction to DRV\", UVM_NONE);\n",
    "        start_item(tr);\n",
    "        assert(tr.randomize);\n",
    "          tr.op      = wrrdfixed; // update the mode to write_read_fixed\n",
    "          tr.awlen   = 7; // burst length (AXI -> 8 beats)\n",
    "          tr.awburst = 0; // burst type (0 = FIXED mode)\n",
    "          tr.awsize  = 2; // transfer size( 2^2 = 4 bytes)\n",
    "       \n",
    "        finish_item(tr);\n",
    "  endtask\n",
    "  \n",
    " \n",
    "endclass"
   ]
  },
  {
   "cell_type": "markdown",
   "id": "8f9fcba8",
   "metadata": {},
   "source": [
    "#### Sequence for INCR mode"
   ]
  },
  {
   "cell_type": "markdown",
   "id": "0caac0fe",
   "metadata": {},
   "source": [
    "- It ensures the DUT can correctly handle incrementing burst transactions\n",
    "- most common burst mode in AXI"
   ]
  },
  {
   "cell_type": "code",
   "execution_count": null,
   "id": "b5bc73ec",
   "metadata": {
    "vscode": {
     "languageId": "verilog"
    }
   },
   "outputs": [],
   "source": [
    "class valid_wrrd_incr extends uvm_sequence#(transaction); // ensures the DUT can correctly handle incrementing burst transactions\n",
    "  `uvm_object_utils(valid_wrrd_incr)\n",
    "  \n",
    "  transaction tr;\n",
    " \n",
    "  function new(string name = \"valid_wrrd_incr\");\n",
    "    super.new(name);\n",
    "  endfunction\n",
    " \n",
    "  \n",
    "  virtual task body();\n",
    "        tr = transaction::type_id::create(\"tr\");\n",
    "        $display(\"------------------------------\");\n",
    "        `uvm_info(\"SEQ\", \"Sending INCR mode Transaction to DRV\", UVM_NONE);\n",
    "        start_item(tr);\n",
    "        assert(tr.randomize);\n",
    "          tr.op      = wrrdincr;\n",
    "          tr.awlen   = 7;\n",
    "          tr.awburst = 1;\n",
    "          tr.awsize  = 2;\n",
    "          \n",
    "        finish_item(tr);\n",
    "  endtask\n",
    "  \n",
    " \n",
    "endclass"
   ]
  },
  {
   "cell_type": "markdown",
   "id": "4239065d",
   "metadata": {},
   "source": [
    "#### Sequence for WRAP mode"
   ]
  },
  {
   "cell_type": "markdown",
   "id": "f06a8bdd",
   "metadata": {},
   "source": [
    "-  the sequence that validates your DUT’s wrap burst behavior making sure the address increments within the burst boundary and wraps back correctly."
   ]
  },
  {
   "cell_type": "code",
   "execution_count": null,
   "id": "5819ad59",
   "metadata": {
    "vscode": {
     "languageId": "verilog"
    }
   },
   "outputs": [],
   "source": [
    "class valid_wrrd_wrap extends uvm_sequence#(transaction);\n",
    "  `uvm_object_utils(valid_wrrd_wrap)\n",
    "  \n",
    "  transaction tr;\n",
    " \n",
    "  function new(string name = \"valid_wrrd_wrap\");\n",
    "    super.new(name);\n",
    "  endfunction\n",
    " \n",
    "  \n",
    "  virtual task body();\n",
    "        tr = transaction::type_id::create(\"tr\");\n",
    "         $display(\"------------------------------\");\n",
    "        `uvm_info(\"SEQ\", \"Sending WRAP mode Transaction to DRV\", UVM_NONE);\n",
    "        start_item(tr);\n",
    "        assert(tr.randomize);\n",
    "          tr.op      = wrrdwrap;\n",
    "          tr.awlen   = 7;\n",
    "          tr.awburst = 2;\n",
    "          tr.awsize  = 2;\n",
    "          \n",
    "        finish_item(tr);\n",
    "  endtask\n",
    "  \n",
    " \n",
    "endclass"
   ]
  },
  {
   "cell_type": "markdown",
   "id": "722d91ff",
   "metadata": {},
   "source": [
    "#### Sequence to inject error"
   ]
  },
  {
   "cell_type": "markdown",
   "id": "2021fe4c",
   "metadata": {},
   "source": [
    "- Unlike the valid sequences (which check correct DUT behavior under legal AXI transactions), this error sequence is for negative testing intentionally generating scenarios that should trigger DUT error handling."
   ]
  },
  {
   "cell_type": "code",
   "execution_count": null,
   "id": "76ac9c53",
   "metadata": {
    "vscode": {
     "languageId": "verilog"
    }
   },
   "outputs": [],
   "source": [
    "class err_wrrd_fix extends uvm_sequence#(transaction);  // sequence to inject error to make sure DUT detects error as expected\n",
    "  `uvm_object_utils(err_wrrd_fix)\n",
    "  \n",
    "  transaction tr;\n",
    " \n",
    "  function new(string name = \"err_wrrd_fix\");\n",
    "    super.new(name);\n",
    "  endfunction\n",
    " \n",
    "  \n",
    "  virtual task body();\n",
    "        tr = transaction::type_id::create(\"tr\");\n",
    "        $display(\"------------------------------\");\n",
    "        `uvm_info(\"SEQ\", \"Sending Error Transaction to DRV\", UVM_NONE);\n",
    "        start_item(tr);\n",
    "        assert(tr.randomize);\n",
    "          tr.op      = wrrderrfix;\n",
    "          tr.awlen   = 7;\n",
    "          tr.awburst = 0;\n",
    "          tr.awsize  = 2;   \n",
    "        finish_item(tr);\n",
    "  endtask\n",
    "  \n",
    " \n",
    "endclass"
   ]
  },
  {
   "cell_type": "markdown",
   "id": "6ff7d4b8",
   "metadata": {},
   "source": [
    "### Driver"
   ]
  },
  {
   "cell_type": "markdown",
   "id": "47c5483b",
   "metadata": {},
   "source": [
    "#### Reset Task"
   ]
  },
  {
   "cell_type": "markdown",
   "id": "f5f383b7",
   "metadata": {},
   "source": [
    "- Drives DUT signals into a reset state.\n",
    "- All AXI signals (awvalid, awaddr, wvalid, arvalid, etc.) are deasserted or zeroed.\n",
    "- Waits for one clock edge after applying reset."
   ]
  },
  {
   "cell_type": "code",
   "execution_count": null,
   "id": "5d794e44",
   "metadata": {
    "vscode": {
     "languageId": "verilog"
    }
   },
   "outputs": [],
   "source": [
    "task reset_dut();  // drives DUT signals into a reset state\n",
    "    begin\n",
    "    `uvm_info(\"DRV\", \"System Reset : Start of Simulation\", UVM_MEDIUM);\n",
    "    vif.resetn      <= 1'b0;  ///active high reset\n",
    "    vif.awvalid     <= 1'b0;\n",
    "    vif.awid        <= 1'b0;\n",
    "    vif.awlen       <= 0;\n",
    "    vif.awsize      <= 0;\n",
    "    vif.awaddr      <= 0;\n",
    "    vif.awburst     <= 0;\n",
    "      \n",
    "    vif.wvalid      <= 0;\n",
    "    vif.wid         <= 0;\n",
    "    vif.wdata       <= 0;\n",
    "    vif.wstrb       <= 0;\n",
    "    vif.wlast       <= 0;\n",
    "      \n",
    "    vif.bready      <= 0;\n",
    "    \n",
    "    vif.arvalid     <= 1'b0;\n",
    "    vif.arid        <= 1'b0;\n",
    "    vif.arlen       <= 0;\n",
    "    vif.arsize      <= 0;\n",
    "    vif.araddr      <= 0;\n",
    "    vif.arburst     <= 0; \n",
    "      \n",
    "    vif.rready      <= 0;\n",
    "     @(posedge vif.clk);\n",
    "      end\n",
    "  endtask"
   ]
  },
  {
   "cell_type": "markdown",
   "id": "6fab9603",
   "metadata": {},
   "source": [
    "#### Write logic in fixed mode"
   ]
  },
  {
   "cell_type": "code",
   "execution_count": null,
   "id": "b046f63d",
   "metadata": {
    "vscode": {
     "languageId": "verilog"
    }
   },
   "outputs": [],
   "source": [
    "task wrrd_fixed_wr();\n",
    "            `uvm_info(\"DRV\", \"Fixed Mode Write Transaction Started\", UVM_NONE);\n",
    "    /////////////////////////write logic\n",
    "            vif.resetn      <= 1'b1; // release reset\n",
    "            vif.awvalid     <= 1'b1; // valid address\n",
    "            vif.awid        <= tr.id; // AXI ID\n",
    "            vif.awlen       <= 7; // 8 beats\n",
    "            vif.awsize      <= 2; // beat size = 4 bytes\n",
    "            vif.awaddr      <= 5; // base addr\n",
    "            vif.awburst     <= 0; // FIXED mode\n",
    "     \n",
    "     \n",
    "            vif.wvalid      <= 1'b1;\n",
    "            vif.wid         <= tr.id;\n",
    "            vif.wdata       <= $urandom_range(0,10); // this is the data we are sending\n",
    "            vif.wstrb       <= 4'b1111;\n",
    "            vif.wlast       <= 0;\n",
    "     \n",
    "            vif.arvalid     <= 1'b0;  ///turn off read \n",
    "            vif.rready      <= 1'b0;\n",
    "            vif.bready      <= 1'b0;\n",
    "             @(posedge vif.clk); // wait one tick before sending first data\n",
    "            \n",
    "             @(posedge vif.wready); // wait for slave to accept data\n",
    "             @(posedge vif.clk); // make sure the simulation aligns with that clock edge before updating signals for the next beat.\n",
    " \n",
    "     for(int i = 0; i < (vif.awlen); i++)//0 - 6 -> 7\n",
    "         begin\n",
    "            vif.wdata       <= $urandom_range(0,10);\n",
    "            vif.wstrb       <= 4'b1111;\n",
    "            @(posedge vif.wready);\n",
    "            @(posedge vif.clk); // make sure the simulation aligns with that clock edge before updating signals for the next beat.\n",
    "         end\n",
    "         vif.awvalid     <= 1'b0;\n",
    "         vif.wvalid      <= 1'b0;\n",
    "         vif.wlast       <= 1'b1;\n",
    "         vif.bready      <= 1'b1;\n",
    "         @(negedge vif.bvalid); \n",
    "         vif.wlast       <= 1'b0;\n",
    "         vif.bready      <= 1'b0;  \n",
    "        /////////////////////////////////////// read logic\n",
    "   endtask"
   ]
  },
  {
   "cell_type": "markdown",
   "id": "20159e37",
   "metadata": {},
   "source": [
    "#### Read logic in FIXED mode"
   ]
  },
  {
   "cell_type": "code",
   "execution_count": null,
   "id": "7135dc9c",
   "metadata": {
    "vscode": {
     "languageId": "verilog"
    }
   },
   "outputs": [],
   "source": [
    " task  wrrd_fixed_rd(); \n",
    "        `uvm_info(\"DRV\", \"Fixed Mode Read Transaction Started\", UVM_NONE);   \n",
    "        @(posedge vif.clk);\n",
    " \n",
    "        vif.arid        <= tr.id;\n",
    "        vif.arlen       <= 7;\n",
    "        vif.arsize      <= 2;\n",
    "        vif.araddr      <= 5;\n",
    "        vif.arburst     <= 0; \n",
    "        vif.arvalid     <= 1'b1;  \n",
    "        vif.rready      <= 1'b1;\n",
    "       \n",
    "        \n",
    "     for(int i = 0; i < (vif.arlen + 1); i++) begin // 0 1  2 3 4 5 6 7\n",
    "       @(posedge vif.arready);\n",
    "       @(posedge vif.clk);\n",
    "      end\n",
    "      \n",
    "     @(negedge vif.rlast);      \n",
    "     vif.arvalid <= 1'b0;\n",
    "     vif.rready  <= 1'b0; \n",
    " \n",
    "  endtask"
   ]
  },
  {
   "cell_type": "markdown",
   "id": "98a8bd07",
   "metadata": {},
   "source": [
    "#### Write logic in INCR mode"
   ]
  },
  {
   "cell_type": "code",
   "execution_count": null,
   "id": "e910c0e6",
   "metadata": {
    "vscode": {
     "languageId": "verilog"
    }
   },
   "outputs": [],
   "source": [
    "task wrrd_incr_wr();\n",
    "   /////////////////////////write logic\n",
    "    `uvm_info(\"DRV\", \"INCR Mode Write Transaction Started\", UVM_NONE);\n",
    "            vif.resetn      <= 1'b1;\n",
    "            vif.awvalid     <= 1'b1;\n",
    "            vif.awid        <= tr.id;\n",
    "            vif.awlen       <= 7;\n",
    "            vif.awsize      <= 2;\n",
    "            vif.awaddr      <= 5;\n",
    "            vif.awburst     <= 1;\n",
    "     \n",
    "     \n",
    "            vif.wvalid      <= 1'b1;\n",
    "            vif.wid         <= tr.id;\n",
    "            vif.wdata       <= $urandom_range(0,10);\n",
    "            vif.wstrb       <= 4'b1111;\n",
    "            vif.wlast       <= 0;\n",
    "     \n",
    "            vif.arvalid     <= 1'b0;  ///turn off read \n",
    "            vif.rready      <= 1'b0;\n",
    "            vif.bready      <= 1'b0;\n",
    "            \n",
    "            \n",
    "             @(posedge vif.wready);\n",
    "             @(posedge vif.clk);\n",
    " \n",
    "     for(int i = 0; i < (vif.awlen); i++)\n",
    "         begin\n",
    "            vif.wdata       <= $urandom_range(0,10);\n",
    "            vif.wstrb       <= 4'b1111;\n",
    "            @(posedge vif.wready);\n",
    "            @(posedge vif.clk);\n",
    "         end\n",
    "     \n",
    "         vif.wlast       <= 1'b1;\n",
    "         vif.bready      <= 1'b1;\n",
    "         vif.awvalid     <= 1'b0;\n",
    "         vif.wvalid      <= 1'b0;\n",
    "         @(negedge vif.bvalid);\n",
    "         vif.bready      <= 1'b0;\n",
    "          vif.wlast      <= 1'b0; \n",
    "           \n",
    "      endtask"
   ]
  },
  {
   "cell_type": "markdown",
   "id": "b2d40517",
   "metadata": {},
   "source": [
    "#### Read logic in INCR mode"
   ]
  },
  {
   "cell_type": "code",
   "execution_count": null,
   "id": "9e55564b",
   "metadata": {
    "vscode": {
     "languageId": "verilog"
    }
   },
   "outputs": [],
   "source": [
    "task wrrd_incr_rd();  \n",
    "       `uvm_info(\"DRV\", \"INCR Mode Read Transaction Started\", UVM_NONE);  \n",
    "       @(posedge vif.clk);\n",
    " \n",
    "       \n",
    " \n",
    "        vif.arid        <= tr.id;\n",
    "        vif.arlen       <= 7;\n",
    "        vif.arsize      <= 2;\n",
    "        vif.araddr      <= 5;\n",
    "        vif.arburst     <= 1; \n",
    "        vif.arvalid     <= 1'b1;  \n",
    "        vif.rready      <= 1'b1;\n",
    "        \n",
    "     for(int i = 0; i < (vif.arlen + 1); i++) begin // 0 1  2 3 4 5 6 7\n",
    "       @(posedge vif.arready);\n",
    "       @(posedge vif.clk);\n",
    "      end\n",
    "      \n",
    "     @(negedge vif.rlast);\n",
    "     vif.arvalid <= 1'b0;\n",
    "     vif.rready  <= 1'b0; \n",
    "  endtask"
   ]
  },
  {
   "cell_type": "markdown",
   "id": "d3389efc",
   "metadata": {},
   "source": [
    "#### Write logic in WRAP mode"
   ]
  },
  {
   "cell_type": "code",
   "execution_count": null,
   "id": "7457c6c7",
   "metadata": {
    "vscode": {
     "languageId": "verilog"
    }
   },
   "outputs": [],
   "source": [
    " task wrrd_wrap_wr();\n",
    "    `uvm_info(\"DRV\", \"WRAP Mode Write Transaction Started\", UVM_NONE);  \n",
    "   /////////////////////////write logic\n",
    "            vif.resetn      <= 1'b1;\n",
    "            vif.awvalid     <= 1'b1;\n",
    "            vif.awid        <= tr.id;\n",
    "            vif.awlen       <= 7;\n",
    "            vif.awsize      <= 2;\n",
    "            vif.awaddr      <= 5;\n",
    "            vif.awburst     <= 2;\n",
    "     \n",
    "     \n",
    "            vif.wvalid      <= 1'b1;\n",
    "            vif.wid         <= tr.id;\n",
    "            vif.wdata       <= $urandom_range(0,10);\n",
    "            vif.wstrb       <= 4'b1111;\n",
    "            vif.wlast       <= 0;\n",
    "     \n",
    "            vif.arvalid     <= 1'b0;  ///turn off read \n",
    "            vif.rready      <= 1'b0;\n",
    "            vif.bready      <= 1'b0;\n",
    "            \n",
    "            \n",
    "             @(posedge vif.wready);\n",
    "             @(posedge vif.clk);\n",
    " \n",
    "       for(int i = 0; i < (vif.awlen); i++)\n",
    "         begin\n",
    "            vif.wdata       <= $urandom_range(0,10);\n",
    "            vif.wstrb       <= 4'b1111;\n",
    "            @(posedge vif.wready);\n",
    "            @(posedge vif.clk);\n",
    "         end\n",
    "     \n",
    "         vif.wlast       <= 1'b1;\n",
    "         vif.bready      <= 1'b1;\n",
    "         vif.awvalid     <= 1'b0;\n",
    "         vif.wvalid      <= 1'b0;\n",
    "        \n",
    "         @(negedge vif.bvalid);\n",
    "         vif.bready      <= 1'b0; \n",
    "         vif.wlast       <= 1'b0; \n",
    "         \n",
    "         \n",
    "        endtask "
   ]
  },
  {
   "cell_type": "markdown",
   "id": "1c858757",
   "metadata": {},
   "source": [
    "#### Read logic in WRAP mode"
   ]
  },
  {
   "cell_type": "code",
   "execution_count": null,
   "id": "1ae0ec15",
   "metadata": {
    "vscode": {
     "languageId": "verilog"
    }
   },
   "outputs": [],
   "source": [
    "task wrrd_wrap_rd(); \n",
    "      `uvm_info(\"DRV\", \"WRAP Mode Read Transaction Started\", UVM_NONE);  \n",
    "       @(posedge vif.clk);\n",
    "       vif.arvalid     <= 1'b1;  \n",
    "       vif.rready      <= 1'b1;\n",
    "  \n",
    " \n",
    "        vif.arid        <= tr.id;\n",
    "        vif.arlen       <= 7;\n",
    "        vif.arsize      <= 2;\n",
    "        vif.araddr      <= 5;\n",
    "        vif.arburst     <= 2; \n",
    "        \n",
    "     for(int i = 0; i < (vif.arlen + 1); i++) begin // 0 1  2 3 4 5 6 7\n",
    "       @(posedge vif.arready);\n",
    "       @(posedge vif.clk);\n",
    "      end\n",
    "     \n",
    "     @(negedge vif.rlast);\n",
    "     vif.arvalid <= 1'b0; \n",
    "     vif.rready  <= 1'b0; \n",
    "  endtask"
   ]
  },
  {
   "cell_type": "markdown",
   "id": "0933d5e4",
   "metadata": {},
   "source": [
    "#### Write logic in ERROR mode"
   ]
  },
  {
   "cell_type": "code",
   "execution_count": null,
   "id": "34bde0af",
   "metadata": {
    "vscode": {
     "languageId": "verilog"
    }
   },
   "outputs": [],
   "source": [
    "task err_wr();\n",
    "      `uvm_info(\"DRV\", \"Error Write Transaction Started\", UVM_NONE);\n",
    "   \n",
    "   /////////////////////////write logic\n",
    "            vif.resetn      <= 1'b1;\n",
    "            vif.awvalid     <= 1'b1;\n",
    "            vif.awid        <= tr.id;\n",
    "            vif.awlen       <= 7;\n",
    "            vif.awsize      <= 2;\n",
    "            vif.awaddr      <= 128; // invalid address\n",
    "            vif.awburst     <= 0; // fixed\n",
    "     \n",
    "     \n",
    "            vif.wvalid      <= 1'b1;\n",
    "            vif.wid         <= tr.id;\n",
    "            vif.wdata       <= $urandom_range(0,10);\n",
    "            vif.wstrb       <= 4'b1111;\n",
    "            vif.wlast       <= 0;\n",
    "     \n",
    "            vif.arvalid     <= 1'b0;  ///turn off read \n",
    "            vif.rready      <= 1'b0;\n",
    "            vif.bready      <= 1'b0;\n",
    "            \n",
    "            \n",
    "             @(posedge vif.wready);\n",
    "             @(posedge vif.clk);\n",
    " \n",
    "     for(int i = 0; i < (vif.awlen); i++)\n",
    "         begin\n",
    "            vif.wdata       <= $urandom_range(0,10);\n",
    "            vif.wstrb       <= 4'b1111;\n",
    "            @(posedge vif.wready);\n",
    "            @(posedge vif.clk);\n",
    "         end\n",
    "     \n",
    "         vif.wlast       <= 1'b1;\n",
    "         vif.bready      <= 1'b1;\n",
    "         vif.awvalid     <= 1'b0;\n",
    "         vif.wvalid      <= 1'b0;\n",
    "         \n",
    "         @(negedge vif.bvalid);\n",
    "         vif.bready      <= 1'b0;\n",
    "         vif.wlast       <= 1'b0;\n",
    "        endtask"
   ]
  },
  {
   "cell_type": "markdown",
   "id": "c0a85d3d",
   "metadata": {},
   "source": [
    "#### Read logic in ERROR mode"
   ]
  },
  {
   "cell_type": "code",
   "execution_count": null,
   "id": "081f3ffc",
   "metadata": {
    "vscode": {
     "languageId": "verilog"
    }
   },
   "outputs": [],
   "source": [
    "task err_rd();  \n",
    "        `uvm_info(\"DRV\", \"Error Read Transaction Started\", UVM_NONE);\n",
    "       @(posedge vif.clk);\n",
    "       vif.arvalid     <= 1'b1;  \n",
    "       vif.rready      <= 1'b1;\n",
    "       //vif.bready      <= 1'b1;\n",
    " \n",
    "        vif.arid        <= tr.id;\n",
    "        vif.arlen       <= 7;\n",
    "        vif.arsize      <= 2;\n",
    "        vif.araddr      <= 128;\n",
    "        vif.arburst     <= 0; \n",
    "        \n",
    "     for(int i = 0; i < (vif.arlen + 1); i++) begin // 0 1  2 3 4 5 6 7\n",
    "       @(posedge vif.arready);\n",
    "       @(posedge vif.clk);\n",
    "      end\n",
    "     \n",
    "     @(negedge vif.rlast);\n",
    "     vif.arvalid <= 1'b0; \n",
    "     vif.rready  <= 1'b0; \n",
    "  \n",
    "    endtask"
   ]
  },
  {
   "cell_type": "markdown",
   "id": "ac4d3f43",
   "metadata": {},
   "source": [
    "#### RUN PHASE"
   ]
  },
  {
   "cell_type": "code",
   "execution_count": null,
   "id": "59f3e22c",
   "metadata": {
    "vscode": {
     "languageId": "verilog"
    }
   },
   "outputs": [],
   "source": [
    "virtual task run_phase(uvm_phase phase);\n",
    "       forever begin\n",
    "     \n",
    "         seq_item_port.get_next_item(tr);\n",
    "            if(tr.op == rstdut)\n",
    "             reset_dut();\n",
    "           else if (tr.op == wrrdfixed) // Fixed Burst\n",
    "             begin\n",
    "            `uvm_info(\"DRV\", $sformatf(\"Fixed Mode Write -> Read WLEN:%0d WSIZE:%0d\",tr.awlen+1,tr.awsize), UVM_MEDIUM);\n",
    "            /// writes some data, then reads it back\n",
    "             wrrd_fixed_wr(); // do the fixed write\n",
    "             wrrd_fixed_rd(); // do the fixed read\n",
    "             end\n",
    "           else if (tr.op == wrrdincr) // Increment Burst\n",
    "             begin\n",
    "            `uvm_info(\"DRV\", $sformatf(\"INCR Mode Write -> Read WLEN:%0d WSIZE:%0d\",tr.awlen+1,tr.awsize), UVM_MEDIUM);\n",
    "             wrrd_incr_wr();\n",
    "             wrrd_incr_rd();\n",
    "             end   \n",
    "           else if (tr.op == wrrdwrap) // Wrap Burst\n",
    "             begin\n",
    "            `uvm_info(\"DRV\", $sformatf(\"WRAP Mode Write -> Read WLEN:%0d WSIZE:%0d\",tr.awlen+1,tr.awsize), UVM_MEDIUM);\n",
    "             wrrd_wrap_wr();\n",
    "             wrrd_wrap_rd();\n",
    "             end   \n",
    "           else if (tr.op == wrrderrfix) // Error Transaction\n",
    "             begin\n",
    "            `uvm_info(\"DRV\", $sformatf(\"Error Transaction Mode WLEN:%0d WSIZE:%0d\",tr.awlen+1,tr.awsize), UVM_MEDIUM);\n",
    "             err_wr();\n",
    "             err_rd();\n",
    "             end \n",
    " \n",
    "         seq_item_port.item_done();\n",
    "        end\n",
    "  endtask\n",
    " \n",
    "  \n",
    "endclass"
   ]
  },
  {
   "cell_type": "markdown",
   "id": "7cec6c47",
   "metadata": {},
   "source": [
    "### Monitor"
   ]
  },
  {
   "cell_type": "markdown",
   "id": "3566339c",
   "metadata": {},
   "source": [
    "#### Declaration & Utilities"
   ]
  },
  {
   "cell_type": "code",
   "execution_count": null,
   "id": "1d9dc250",
   "metadata": {
    "vscode": {
     "languageId": "verilog"
    }
   },
   "outputs": [],
   "source": [
    "class mon extends uvm_monitor;\n",
    "  `uvm_component_utils(mon)"
   ]
  },
  {
   "cell_type": "markdown",
   "id": "2f90405c",
   "metadata": {},
   "source": [
    "#### Handles & Storage"
   ]
  },
  {
   "cell_type": "markdown",
   "id": "1e03910d",
   "metadata": {},
   "source": [
    "- **tr**: A handle to a transaction object\n",
    "- **vif**: A handle to the virtual AXI interface. Through vif the monitor sees all DUT signals.\n",
    "- **arr[128]**: A small local memory array used to reconstruct what was written so reads can be checked against it. Indexing uses the DUT’s reported next-write address pointer (vif.next_addrwr).\n",
    "- **wrresp and rdresp**: Capture the AXI write- and read-response codes (bresp and rresp).\n",
    "- **err**: A simple error counter. Incremented whenever a data mismatch or unexpected response is detected."
   ]
  },
  {
   "cell_type": "code",
   "execution_count": null,
   "id": "9057a3c7",
   "metadata": {
    "vscode": {
     "languageId": "verilog"
    }
   },
   "outputs": [],
   "source": [
    "  transaction tr;\n",
    "  virtual axi_if   vif;\n",
    "\n",
    "  logic [31:0] arr[128];\n",
    "  logic [1:0]  rdresp, wrresp;\n",
    "  int          err = 0;"
   ]
  },
  {
   "cell_type": "markdown",
   "id": "5c9139be",
   "metadata": {},
   "source": [
    "#### Constructor & Build Phase"
   ]
  },
  {
   "cell_type": "code",
   "execution_count": null,
   "id": "5292d825",
   "metadata": {
    "vscode": {
     "languageId": "verilog"
    }
   },
   "outputs": [],
   "source": [
    "function new(string inst = \"mon\", uvm_component parent = null);\n",
    "  super.new(inst,parent);\n",
    "endfunction\n",
    "\n",
    "virtual function void build_phase(uvm_phase phase);\n",
    "  super.build_phase(phase);\n",
    "  tr = transaction::type_id::create(\"tr\");\n",
    "  if (!uvm_config_db#(virtual axi_if)::get(this,\"\",\"vif\",vif))\n",
    "    `uvm_error(\"MON\",\"Unable to access Interface\");\n",
    "endfunction"
   ]
  },
  {
   "cell_type": "markdown",
   "id": "1554bbcd",
   "metadata": {},
   "source": [
    "#### The Compare() Task"
   ]
  },
  {
   "cell_type": "markdown",
   "id": "61fd005c",
   "metadata": {},
   "source": [
    "- Checks: \n",
    "    - err == 0: no data mismatches or unexpected responses occurred.\n",
    "    - wrresp == 0 and rdresp == 0: both write and read responses were OK (OKAY in AXI terms).\n",
    "- Resets err to zero in preparation for the next transaction."
   ]
  },
  {
   "cell_type": "code",
   "execution_count": null,
   "id": "f20f3559",
   "metadata": {
    "vscode": {
     "languageId": "verilog"
    }
   },
   "outputs": [],
   "source": [
    "task compare();  // compare and logs a pass/fail message\n",
    "    if(err == 0 && rdresp == 0 && wrresp == 0 ) \n",
    "         begin\n",
    "           `uvm_info(\"MON\", $sformatf(\"Test Passed err :%0d wrresp :%0d rdresp :%0d \", err, rdresp, wrresp), UVM_MEDIUM); \n",
    "           err = 0;\n",
    "         end\n",
    "    else\n",
    "        begin\n",
    "          `uvm_info(\"MON\", $sformatf(\"Test Failed err :%0d wrresp :%0d rdresp :%0d \", err, rdresp, wrresp), UVM_MEDIUM);\n",
    "          err = 0; \n",
    "        end\n",
    "  endtask"
   ]
  },
  {
   "cell_type": "markdown",
   "id": "95ed467d",
   "metadata": {},
   "source": [
    "#### The run phase task"
   ]
  },
  {
   "cell_type": "markdown",
   "id": "0c0915b2",
   "metadata": {},
   "source": [
    "1. If reset is active → just announce reset.\n",
    "2. If address is valid (<128):\n",
    "    - Watch write data and store it\n",
    "    - Watch read data and compare it to what was written.\n",
    "    - Count mismatches as errors.\n",
    "3. If address is invalid (≥128):\n",
    "    - Expect DUT to reject writes/reads.\n",
    "    - Watch responses and count errors if DUT behaves incorrectly.\n",
    "4. Always log responses and compare results."
   ]
  },
  {
   "cell_type": "markdown",
   "id": "628d7373",
   "metadata": {},
   "source": [
    "#### Normal Case: Valid Write Addr(< 128)"
   ]
  },
  {
   "cell_type": "code",
   "execution_count": null,
   "id": "4afe7290",
   "metadata": {
    "vscode": {
     "languageId": "verilog"
    }
   },
   "outputs": [],
   "source": [
    "virtual task run_phase(uvm_phase phase);\n",
    "    forever begin\n",
    "    \n",
    "      @(posedge vif.clk);\n",
    "      if(!vif.resetn)\n",
    "        begin \n",
    "          `uvm_info(\"MON\", \"System Reset Detected\", UVM_MEDIUM); \n",
    "        end\n",
    "      \n",
    "      else if(vif.resetn && vif.awaddr < 128)\n",
    "        begin\n",
    "        /// Write Transaction Monitoring\n",
    "          wait(vif.awvalid == 1'b1);\n",
    "          \n",
    "          for(int i =0; i < (vif.awlen + 1); i++) begin\n",
    "          @(posedge vif.wready);\n",
    "          arr[vif.next_addrwr] = vif.wdata;\n",
    "          end\n",
    "        /// Write Response  \n",
    "         // @(negedge vif.wlast);\n",
    "          @(posedge vif.bvalid);\n",
    "          wrresp = vif.bresp;///0\n",
    "  //////////////////////////////////////////////////////  \n",
    "        /// Read Transaction Monitoring      \n",
    "          wait(vif.arvalid == 1'b1);\n",
    "          \n",
    "          for(int i =0; i < (vif.arlen + 1); i++) begin\n",
    "            @(posedge vif.rvalid);\n",
    "            if(vif.rdata != arr[vif.next_addrrd])\n",
    "               begin\n",
    "               err++;\n",
    "               end\n",
    "          end\n",
    "          \n",
    "          @(posedge vif.rlast);\n",
    "          rdresp = vif.rresp;\n",
    "          \n",
    "          compare();\n",
    "           $display(\"------------------------------\");\n",
    "          end"
   ]
  },
  {
   "cell_type": "markdown",
   "id": "921767d6",
   "metadata": {},
   "source": [
    "#### Error Case: Invalid Write Address (>= 128)"
   ]
  },
  {
   "cell_type": "code",
   "execution_count": null,
   "id": "b2176126",
   "metadata": {
    "vscode": {
     "languageId": "verilog"
    }
   },
   "outputs": [],
   "source": [
    "else if (vif.resetn && vif.awaddr >= 128)\n",
    "          begin\n",
    "          wait(vif.awvalid == 1'b1);\n",
    "          \n",
    "          for(int i =0; i < (vif.awlen + 1); i++) begin\n",
    "          @(negedge vif.wready);\n",
    "          end\n",
    "          \n",
    "          @(posedge vif.bvalid);\n",
    "          wrresp = vif.bresp;\n",
    "          \n",
    "          wait(vif.arvalid == 1'b1);\n",
    "          \n",
    "          for(int i =0; i < (vif.arlen + 1); i++) begin\n",
    "            @(posedge vif.arready);\n",
    "            if(vif.rresp != 2'b00) // 00 means OKAY in AXI\n",
    "               begin\n",
    "               err++;\n",
    "               end\n",
    "          end\n",
    "          \n",
    "          @(posedge vif.rlast);\n",
    "           rdresp = vif.rresp;  \n",
    "              \n",
    "              compare();   \n",
    "           $display(\"------------------------------\");   \n",
    "         end\n",
    "      \n",
    " end      \n",
    "endtask \n",
    " \n",
    "endclass"
   ]
  },
  {
   "cell_type": "markdown",
   "id": "b91a8e25",
   "metadata": {},
   "source": [
    "### Agent\n",
    "- encapsulates everything needed to drive and monitor one interface.encapsulates everything needed to drive and monitor one interface."
   ]
  },
  {
   "cell_type": "code",
   "execution_count": null,
   "id": "631d7363",
   "metadata": {
    "vscode": {
     "languageId": "verilog"
    }
   },
   "outputs": [],
   "source": [
    "class agent extends uvm_agent;\n",
    "`uvm_component_utils(agent)\n",
    "  \n",
    " \n",
    " \n",
    "function new(input string inst = \"agent\", uvm_component parent = null);\n",
    "super.new(inst,parent);\n",
    "endfunction\n",
    " \n",
    " driver d;\n",
    " uvm_sequencer#(transaction) seqr;\n",
    " mon m;\n",
    " \n",
    " \n",
    "virtual function void build_phase(uvm_phase phase); // instantiate sub-components\n",
    "super.build_phase(phase);\n",
    "   m = mon::type_id::create(\"m\",this); \n",
    "   d = driver::type_id::create(\"d\",this);\n",
    "   seqr = uvm_sequencer#(transaction)::type_id::create(\"seqr\", this);\n",
    "  \n",
    "  \n",
    "endfunction\n",
    " \n",
    "virtual function void connect_phase(uvm_phase phase); // wire up TLM ports and exports\n",
    "super.connect_phase(phase);\n",
    "    d.seq_item_port.connect(seqr.seq_item_export);\n",
    "endfunction\n",
    " \n",
    "endclass"
   ]
  },
  {
   "cell_type": "markdown",
   "id": "f28cecaa",
   "metadata": {},
   "source": [
    "### Environment"
   ]
  },
  {
   "cell_type": "code",
   "execution_count": null,
   "id": "30b58983",
   "metadata": {
    "vscode": {
     "languageId": "verilog"
    }
   },
   "outputs": [],
   "source": [
    " \n",
    "class env extends uvm_env;\n",
    "`uvm_component_utils(env)\n",
    " \n",
    "function new(input string inst = \"env\", uvm_component c);\n",
    "super.new(inst,c);\n",
    "endfunction\n",
    " \n",
    "agent a;\n",
    " \n",
    " \n",
    "virtual function void build_phase(uvm_phase phase);\n",
    "super.build_phase(phase);\n",
    "  a = agent::type_id::create(\"a\",this);\n",
    " \n",
    "endfunction\n",
    " \n",
    " \n",
    "endclass"
   ]
  },
  {
   "cell_type": "markdown",
   "id": "98e61bad",
   "metadata": {},
   "source": [
    "### Test"
   ]
  },
  {
   "cell_type": "code",
   "execution_count": null,
   "id": "3a045c8f",
   "metadata": {
    "vscode": {
     "languageId": "verilog"
    }
   },
   "outputs": [],
   "source": [
    "class test extends uvm_test;\n",
    "`uvm_component_utils(test)\n",
    " \n",
    "function new(input string inst = \"test\", uvm_component c);\n",
    "super.new(inst,c);\n",
    "endfunction\n",
    " \n",
    " \n",
    "env e;\n",
    "valid_wrrd_fixed vwrrdfx;\n",
    "valid_wrrd_incr  vwrrdincr;\n",
    "valid_wrrd_wrap  vwrrdwrap;\n",
    "err_wrrd_fix     errwrrdfix;\n",
    "rst_dut rdut; \n",
    "  \n",
    "virtual function void build_phase(uvm_phase phase);\n",
    "super.build_phase(phase);\n",
    "   e       = env::type_id::create(\"env\",this);\n",
    "  vwrrdfx = valid_wrrd_fixed::type_id::create(\"vwrrdfx\");\n",
    "  vwrrdincr = valid_wrrd_incr::type_id::create(\"vwrrdincr\");\n",
    "  vwrrdwrap = valid_wrrd_wrap::type_id::create(\"vwrrdwrap\");\n",
    "  errwrrdfix = err_wrrd_fix::type_id::create(\"errwrrdfix\");\n",
    "  rdut       = rst_dut::type_id::create(\"rdut\");\n",
    "endfunction\n",
    " \n",
    "virtual task run_phase(uvm_phase phase);\n",
    "phase.raise_objection(this);\n",
    "//rdut.start(e.a.seqr);\n",
    "//#20;\n",
    "//vwrrdfx.start(e.a.seqr);\n",
    "//#20;\n",
    "//vwrrdincr.start(e.a.seqr);\n",
    "//#20;\n",
    "//vwrrdwrap.start(e.a.seqr);\n",
    "//#20;\n",
    "errwrrdfix.start(e.a.seqr);\n",
    "#20;\n",
    " \n",
    "phase.drop_objection(this);\n",
    "endtask\n",
    "endclass"
   ]
  },
  {
   "cell_type": "markdown",
   "id": "514443eb",
   "metadata": {},
   "source": [
    "### module tb"
   ]
  },
  {
   "cell_type": "code",
   "execution_count": null,
   "id": "6165816a",
   "metadata": {
    "vscode": {
     "languageId": "verilog"
    }
   },
   "outputs": [],
   "source": [
    "module tb;\n",
    " \n",
    " axi_if vif(); // Instantiates your SystemVerilog interface axi_if as vif. All AXI-channel signals live inside this interface.\n",
    " axi_slave dut (vif.clk, vif.resetn, vif.awvalid, vif.awready,  vif.awid, vif.awlen, vif.awsize, vif.awaddr,  vif.awburst, \n",
    " vif.wvalid, vif.wready, vif.wid, vif.wdata, vif.wstrb, vif.wlast, vif.bready, vif.bvalid, vif.bid, vif.bresp , vif.arready, \n",
    " vif.arid, vif.araddr, vif.arlen, vif.arsize, vif.arburst, vif.arvalid, vif.rid, vif.rdata, vif.rresp,vif.rlast,  vif.rvalid, vif.rready);\n",
    " // Instantiates the DUT (an AXI slave). You connect each of its ports directly to the corresponding signals inside vif. This “wires up” the DUT to your interface.\n",
    "\n",
    "\n",
    " \n",
    "  initial begin\n",
    "    vif.clk <= 0;\n",
    "  end\n",
    "  \n",
    "  always #5 vif.clk <= ~vif.clk;\n",
    "  \n",
    "    initial begin\n",
    "    uvm_config_db#(virtual axi_if)::set(null, \"*\", \"vif\", vif);\n",
    "    run_test(\"test\");\n",
    "   end\n",
    "  \n",
    "  \n",
    "  \n",
    "  /// Waveform dump\n",
    "    initial begin\n",
    "    $dumpfile(\"dump.vcd\");\n",
    "    $dumpvars;   \n",
    "  end\n",
    "  \n",
    "  assign vif.next_addrwr = dut.nextaddr;\n",
    "  assign vif.next_addrrd = dut.rdnextaddr;\n",
    "  \n",
    "endmodule"
   ]
  }
 ],
 "metadata": {
  "language_info": {
   "name": "python"
  }
 },
 "nbformat": 4,
 "nbformat_minor": 5
}
